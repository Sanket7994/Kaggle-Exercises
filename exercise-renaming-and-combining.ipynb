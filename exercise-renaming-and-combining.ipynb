{
 "cells": [
  {
   "cell_type": "markdown",
   "id": "771b08ab",
   "metadata": {
    "papermill": {
     "duration": 0.005571,
     "end_time": "2022-09-25T10:27:38.610075",
     "exception": false,
     "start_time": "2022-09-25T10:27:38.604504",
     "status": "completed"
    },
    "tags": []
   },
   "source": [
    "**This notebook is an exercise in the [Pandas](https://www.kaggle.com/learn/pandas) course.  You can reference the tutorial at [this link](https://www.kaggle.com/residentmario/renaming-and-combining).**\n",
    "\n",
    "---\n"
   ]
  },
  {
   "cell_type": "markdown",
   "id": "86f8ec28",
   "metadata": {
    "papermill": {
     "duration": 0.004159,
     "end_time": "2022-09-25T10:27:38.618743",
     "exception": false,
     "start_time": "2022-09-25T10:27:38.614584",
     "status": "completed"
    },
    "tags": []
   },
   "source": [
    "# Introduction\n",
    "\n",
    "Run the following cell to load your data and some utility functions."
   ]
  },
  {
   "cell_type": "code",
   "execution_count": 1,
   "id": "16d6e94c",
   "metadata": {
    "execution": {
     "iopub.execute_input": "2022-09-25T10:27:38.628750Z",
     "iopub.status.busy": "2022-09-25T10:27:38.628240Z",
     "iopub.status.idle": "2022-09-25T10:27:42.391231Z",
     "shell.execute_reply": "2022-09-25T10:27:42.390586Z"
    },
    "papermill": {
     "duration": 3.770386,
     "end_time": "2022-09-25T10:27:42.393283",
     "exception": false,
     "start_time": "2022-09-25T10:27:38.622897",
     "status": "completed"
    },
    "tags": []
   },
   "outputs": [
    {
     "name": "stdout",
     "output_type": "stream",
     "text": [
      "Setup complete.\n"
     ]
    }
   ],
   "source": [
    "import pandas as pd\n",
    "\n",
    "reviews = pd.read_csv(\"../input/wine-reviews/winemag-data-130k-v2.csv\", index_col=0)\n",
    "\n",
    "from learntools.core import binder; binder.bind(globals())\n",
    "from learntools.pandas.renaming_and_combining import *\n",
    "print(\"Setup complete.\")"
   ]
  },
  {
   "cell_type": "markdown",
   "id": "9806045f",
   "metadata": {
    "papermill": {
     "duration": 0.004226,
     "end_time": "2022-09-25T10:27:42.402029",
     "exception": false,
     "start_time": "2022-09-25T10:27:42.397803",
     "status": "completed"
    },
    "tags": []
   },
   "source": [
    "# Exercises\n",
    "\n",
    "View the first several lines of your data by running the cell below:"
   ]
  },
  {
   "cell_type": "code",
   "execution_count": 2,
   "id": "ab5268c8",
   "metadata": {
    "execution": {
     "iopub.execute_input": "2022-09-25T10:27:42.412460Z",
     "iopub.status.busy": "2022-09-25T10:27:42.412131Z",
     "iopub.status.idle": "2022-09-25T10:27:42.431406Z",
     "shell.execute_reply": "2022-09-25T10:27:42.430836Z"
    },
    "papermill": {
     "duration": 0.027363,
     "end_time": "2022-09-25T10:27:42.433818",
     "exception": false,
     "start_time": "2022-09-25T10:27:42.406455",
     "status": "completed"
    },
    "tags": []
   },
   "outputs": [
    {
     "data": {
      "text/html": [
       "<div>\n",
       "<style scoped>\n",
       "    .dataframe tbody tr th:only-of-type {\n",
       "        vertical-align: middle;\n",
       "    }\n",
       "\n",
       "    .dataframe tbody tr th {\n",
       "        vertical-align: top;\n",
       "    }\n",
       "\n",
       "    .dataframe thead th {\n",
       "        text-align: right;\n",
       "    }\n",
       "</style>\n",
       "<table border=\"1\" class=\"dataframe\">\n",
       "  <thead>\n",
       "    <tr style=\"text-align: right;\">\n",
       "      <th></th>\n",
       "      <th>country</th>\n",
       "      <th>description</th>\n",
       "      <th>designation</th>\n",
       "      <th>points</th>\n",
       "      <th>price</th>\n",
       "      <th>province</th>\n",
       "      <th>region_1</th>\n",
       "      <th>region_2</th>\n",
       "      <th>taster_name</th>\n",
       "      <th>taster_twitter_handle</th>\n",
       "      <th>title</th>\n",
       "      <th>variety</th>\n",
       "      <th>winery</th>\n",
       "    </tr>\n",
       "  </thead>\n",
       "  <tbody>\n",
       "    <tr>\n",
       "      <th>0</th>\n",
       "      <td>Italy</td>\n",
       "      <td>Aromas include tropical fruit, broom, brimston...</td>\n",
       "      <td>Vulkà Bianco</td>\n",
       "      <td>87</td>\n",
       "      <td>NaN</td>\n",
       "      <td>Sicily &amp; Sardinia</td>\n",
       "      <td>Etna</td>\n",
       "      <td>NaN</td>\n",
       "      <td>Kerin O’Keefe</td>\n",
       "      <td>@kerinokeefe</td>\n",
       "      <td>Nicosia 2013 Vulkà Bianco  (Etna)</td>\n",
       "      <td>White Blend</td>\n",
       "      <td>Nicosia</td>\n",
       "    </tr>\n",
       "    <tr>\n",
       "      <th>1</th>\n",
       "      <td>Portugal</td>\n",
       "      <td>This is ripe and fruity, a wine that is smooth...</td>\n",
       "      <td>Avidagos</td>\n",
       "      <td>87</td>\n",
       "      <td>15.0</td>\n",
       "      <td>Douro</td>\n",
       "      <td>NaN</td>\n",
       "      <td>NaN</td>\n",
       "      <td>Roger Voss</td>\n",
       "      <td>@vossroger</td>\n",
       "      <td>Quinta dos Avidagos 2011 Avidagos Red (Douro)</td>\n",
       "      <td>Portuguese Red</td>\n",
       "      <td>Quinta dos Avidagos</td>\n",
       "    </tr>\n",
       "    <tr>\n",
       "      <th>2</th>\n",
       "      <td>US</td>\n",
       "      <td>Tart and snappy, the flavors of lime flesh and...</td>\n",
       "      <td>NaN</td>\n",
       "      <td>87</td>\n",
       "      <td>14.0</td>\n",
       "      <td>Oregon</td>\n",
       "      <td>Willamette Valley</td>\n",
       "      <td>Willamette Valley</td>\n",
       "      <td>Paul Gregutt</td>\n",
       "      <td>@paulgwine</td>\n",
       "      <td>Rainstorm 2013 Pinot Gris (Willamette Valley)</td>\n",
       "      <td>Pinot Gris</td>\n",
       "      <td>Rainstorm</td>\n",
       "    </tr>\n",
       "  </tbody>\n",
       "</table>\n",
       "</div>"
      ],
      "text/plain": [
       "    country                                        description   designation  \\\n",
       "0     Italy  Aromas include tropical fruit, broom, brimston...  Vulkà Bianco   \n",
       "1  Portugal  This is ripe and fruity, a wine that is smooth...      Avidagos   \n",
       "2        US  Tart and snappy, the flavors of lime flesh and...           NaN   \n",
       "\n",
       "   points  price           province           region_1           region_2  \\\n",
       "0      87    NaN  Sicily & Sardinia               Etna                NaN   \n",
       "1      87   15.0              Douro                NaN                NaN   \n",
       "2      87   14.0             Oregon  Willamette Valley  Willamette Valley   \n",
       "\n",
       "     taster_name taster_twitter_handle  \\\n",
       "0  Kerin O’Keefe          @kerinokeefe   \n",
       "1     Roger Voss            @vossroger   \n",
       "2   Paul Gregutt           @paulgwine    \n",
       "\n",
       "                                           title         variety  \\\n",
       "0              Nicosia 2013 Vulkà Bianco  (Etna)     White Blend   \n",
       "1  Quinta dos Avidagos 2011 Avidagos Red (Douro)  Portuguese Red   \n",
       "2  Rainstorm 2013 Pinot Gris (Willamette Valley)      Pinot Gris   \n",
       "\n",
       "                winery  \n",
       "0              Nicosia  \n",
       "1  Quinta dos Avidagos  \n",
       "2            Rainstorm  "
      ]
     },
     "execution_count": 2,
     "metadata": {},
     "output_type": "execute_result"
    }
   ],
   "source": [
    "reviews.head(3)"
   ]
  },
  {
   "cell_type": "markdown",
   "id": "37223785",
   "metadata": {
    "papermill": {
     "duration": 0.004467,
     "end_time": "2022-09-25T10:27:42.443325",
     "exception": false,
     "start_time": "2022-09-25T10:27:42.438858",
     "status": "completed"
    },
    "tags": []
   },
   "source": [
    "## 1.\n",
    "`region_1` and `region_2` are pretty uninformative names for locale columns in the dataset. Create a copy of `reviews` with these columns renamed to `region` and `locale`, respectively."
   ]
  },
  {
   "cell_type": "code",
   "execution_count": 3,
   "id": "435347fd",
   "metadata": {
    "execution": {
     "iopub.execute_input": "2022-09-25T10:27:42.454611Z",
     "iopub.status.busy": "2022-09-25T10:27:42.454000Z",
     "iopub.status.idle": "2022-09-25T10:27:42.477226Z",
     "shell.execute_reply": "2022-09-25T10:27:42.475884Z"
    },
    "papermill": {
     "duration": 0.031619,
     "end_time": "2022-09-25T10:27:42.479638",
     "exception": false,
     "start_time": "2022-09-25T10:27:42.448019",
     "status": "completed"
    },
    "tags": []
   },
   "outputs": [
    {
     "data": {
      "application/javascript": [
       "parent.postMessage({\"jupyterEvent\": \"custom.exercise_interaction\", \"data\": {\"outcomeType\": 1, \"valueTowardsCompletion\": 0.25, \"interactionType\": 1, \"questionType\": 1, \"questionId\": \"1_RenameCols\", \"learnToolsVersion\": \"0.3.4\", \"failureMessage\": \"\", \"exceptionClass\": \"\", \"trace\": \"\"}}, \"*\")"
      ],
      "text/plain": [
       "<IPython.core.display.Javascript object>"
      ]
     },
     "metadata": {},
     "output_type": "display_data"
    },
    {
     "data": {
      "text/markdown": [
       "<span style=\"color:#33cc33\">Correct</span>"
      ],
      "text/plain": [
       "Correct"
      ]
     },
     "metadata": {},
     "output_type": "display_data"
    }
   ],
   "source": [
    "# Your code here\n",
    "renamed = reviews.rename(columns={'region_1': 'region','region_2':'locale'})\n",
    "\n",
    "# Check your answer\n",
    "q1.check()"
   ]
  },
  {
   "cell_type": "code",
   "execution_count": 4,
   "id": "29d8a105",
   "metadata": {
    "execution": {
     "iopub.execute_input": "2022-09-25T10:27:42.491092Z",
     "iopub.status.busy": "2022-09-25T10:27:42.490791Z",
     "iopub.status.idle": "2022-09-25T10:27:42.495420Z",
     "shell.execute_reply": "2022-09-25T10:27:42.494110Z"
    },
    "papermill": {
     "duration": 0.013084,
     "end_time": "2022-09-25T10:27:42.497639",
     "exception": false,
     "start_time": "2022-09-25T10:27:42.484555",
     "status": "completed"
    },
    "tags": []
   },
   "outputs": [],
   "source": [
    "#q1.hint()\n",
    "#q1.solution()"
   ]
  },
  {
   "cell_type": "markdown",
   "id": "7c60906c",
   "metadata": {
    "papermill": {
     "duration": 0.004602,
     "end_time": "2022-09-25T10:27:42.507106",
     "exception": false,
     "start_time": "2022-09-25T10:27:42.502504",
     "status": "completed"
    },
    "tags": []
   },
   "source": [
    "## 2.\n",
    "Set the index name in the dataset to `wines`."
   ]
  },
  {
   "cell_type": "code",
   "execution_count": 5,
   "id": "ac316191",
   "metadata": {
    "execution": {
     "iopub.execute_input": "2022-09-25T10:27:42.518774Z",
     "iopub.status.busy": "2022-09-25T10:27:42.518198Z",
     "iopub.status.idle": "2022-09-25T10:27:42.538086Z",
     "shell.execute_reply": "2022-09-25T10:27:42.536797Z"
    },
    "papermill": {
     "duration": 0.029171,
     "end_time": "2022-09-25T10:27:42.540708",
     "exception": false,
     "start_time": "2022-09-25T10:27:42.511537",
     "status": "completed"
    },
    "tags": []
   },
   "outputs": [
    {
     "data": {
      "application/javascript": [
       "parent.postMessage({\"jupyterEvent\": \"custom.exercise_interaction\", \"data\": {\"outcomeType\": 1, \"valueTowardsCompletion\": 0.25, \"interactionType\": 1, \"questionType\": 1, \"questionId\": \"2_RenameIndex\", \"learnToolsVersion\": \"0.3.4\", \"failureMessage\": \"\", \"exceptionClass\": \"\", \"trace\": \"\"}}, \"*\")"
      ],
      "text/plain": [
       "<IPython.core.display.Javascript object>"
      ]
     },
     "metadata": {},
     "output_type": "display_data"
    },
    {
     "data": {
      "text/markdown": [
       "<span style=\"color:#33cc33\">Correct</span>"
      ],
      "text/plain": [
       "Correct"
      ]
     },
     "metadata": {},
     "output_type": "display_data"
    }
   ],
   "source": [
    "reindexed = reviews.rename_axis(\"wines\", axis='rows')\n",
    "\n",
    "# Check your answer\n",
    "q2.check()"
   ]
  },
  {
   "cell_type": "code",
   "execution_count": 6,
   "id": "0e5a13f8",
   "metadata": {
    "execution": {
     "iopub.execute_input": "2022-09-25T10:27:42.553028Z",
     "iopub.status.busy": "2022-09-25T10:27:42.552400Z",
     "iopub.status.idle": "2022-09-25T10:27:42.556943Z",
     "shell.execute_reply": "2022-09-25T10:27:42.555369Z"
    },
    "papermill": {
     "duration": 0.013256,
     "end_time": "2022-09-25T10:27:42.559033",
     "exception": false,
     "start_time": "2022-09-25T10:27:42.545777",
     "status": "completed"
    },
    "tags": []
   },
   "outputs": [],
   "source": [
    "#q2.hint()\n",
    "#q2.solution()"
   ]
  },
  {
   "cell_type": "markdown",
   "id": "476cef1e",
   "metadata": {
    "papermill": {
     "duration": 0.004677,
     "end_time": "2022-09-25T10:27:42.568817",
     "exception": false,
     "start_time": "2022-09-25T10:27:42.564140",
     "status": "completed"
    },
    "tags": []
   },
   "source": [
    "## 3.\n",
    "The [Things on Reddit](https://www.kaggle.com/residentmario/things-on-reddit/data) dataset includes product links from a selection of top-ranked forums (\"subreddits\") on reddit.com. Run the cell below to load a dataframe of products mentioned on the */r/gaming* subreddit and another dataframe for products mentioned on the *r//movies* subreddit."
   ]
  },
  {
   "cell_type": "code",
   "execution_count": 7,
   "id": "9fb186c6",
   "metadata": {
    "execution": {
     "iopub.execute_input": "2022-09-25T10:27:42.581213Z",
     "iopub.status.busy": "2022-09-25T10:27:42.580720Z",
     "iopub.status.idle": "2022-09-25T10:27:42.594285Z",
     "shell.execute_reply": "2022-09-25T10:27:42.592882Z"
    },
    "papermill": {
     "duration": 0.022501,
     "end_time": "2022-09-25T10:27:42.597052",
     "exception": false,
     "start_time": "2022-09-25T10:27:42.574551",
     "status": "completed"
    },
    "tags": []
   },
   "outputs": [],
   "source": [
    "gaming_products = pd.read_csv(\"../input/things-on-reddit/top-things/top-things/reddits/g/gaming.csv\")\n",
    "gaming_products['subreddit'] = \"r/gaming\"\n",
    "movie_products = pd.read_csv(\"../input/things-on-reddit/top-things/top-things/reddits/m/movies.csv\")\n",
    "movie_products['subreddit'] = \"r/movies\""
   ]
  },
  {
   "cell_type": "markdown",
   "id": "70274ae9",
   "metadata": {
    "papermill": {
     "duration": 0.004766,
     "end_time": "2022-09-25T10:27:42.607028",
     "exception": false,
     "start_time": "2022-09-25T10:27:42.602262",
     "status": "completed"
    },
    "tags": []
   },
   "source": [
    "Create a `DataFrame` of products mentioned on *either* subreddit."
   ]
  },
  {
   "cell_type": "code",
   "execution_count": 8,
   "id": "0357de8c",
   "metadata": {
    "execution": {
     "iopub.execute_input": "2022-09-25T10:27:42.619360Z",
     "iopub.status.busy": "2022-09-25T10:27:42.619041Z",
     "iopub.status.idle": "2022-09-25T10:27:42.632812Z",
     "shell.execute_reply": "2022-09-25T10:27:42.631642Z"
    },
    "papermill": {
     "duration": 0.022558,
     "end_time": "2022-09-25T10:27:42.635168",
     "exception": false,
     "start_time": "2022-09-25T10:27:42.612610",
     "status": "completed"
    },
    "tags": []
   },
   "outputs": [
    {
     "data": {
      "application/javascript": [
       "parent.postMessage({\"jupyterEvent\": \"custom.exercise_interaction\", \"data\": {\"outcomeType\": 1, \"valueTowardsCompletion\": 0.25, \"interactionType\": 1, \"questionType\": 2, \"questionId\": \"3_ConcatReddit\", \"learnToolsVersion\": \"0.3.4\", \"failureMessage\": \"\", \"exceptionClass\": \"\", \"trace\": \"\"}}, \"*\")"
      ],
      "text/plain": [
       "<IPython.core.display.Javascript object>"
      ]
     },
     "metadata": {},
     "output_type": "display_data"
    },
    {
     "data": {
      "text/markdown": [
       "<span style=\"color:#33cc33\">Correct</span>"
      ],
      "text/plain": [
       "Correct"
      ]
     },
     "metadata": {},
     "output_type": "display_data"
    }
   ],
   "source": [
    "combined_products = pd.concat([gaming_products, movie_products])\n",
    "\n",
    "# Check your answer\n",
    "q3.check()"
   ]
  },
  {
   "cell_type": "code",
   "execution_count": 9,
   "id": "27151773",
   "metadata": {
    "execution": {
     "iopub.execute_input": "2022-09-25T10:27:42.647590Z",
     "iopub.status.busy": "2022-09-25T10:27:42.647272Z",
     "iopub.status.idle": "2022-09-25T10:27:42.652314Z",
     "shell.execute_reply": "2022-09-25T10:27:42.650744Z"
    },
    "papermill": {
     "duration": 0.014447,
     "end_time": "2022-09-25T10:27:42.655006",
     "exception": false,
     "start_time": "2022-09-25T10:27:42.640559",
     "status": "completed"
    },
    "tags": []
   },
   "outputs": [],
   "source": [
    "# q3.hint()\n",
    "# q3.solution()"
   ]
  },
  {
   "cell_type": "markdown",
   "id": "5ccdacbc",
   "metadata": {
    "papermill": {
     "duration": 0.005194,
     "end_time": "2022-09-25T10:27:42.666193",
     "exception": false,
     "start_time": "2022-09-25T10:27:42.660999",
     "status": "completed"
    },
    "tags": []
   },
   "source": [
    "## 4.\n",
    "The [Powerlifting Database](https://www.kaggle.com/open-powerlifting/powerlifting-database) dataset on Kaggle includes one CSV table for powerlifting meets and a separate one for powerlifting competitors. Run the cell below to load these datasets into dataframes:"
   ]
  },
  {
   "cell_type": "code",
   "execution_count": 10,
   "id": "aa071b90",
   "metadata": {
    "execution": {
     "iopub.execute_input": "2022-09-25T10:27:42.678549Z",
     "iopub.status.busy": "2022-09-25T10:27:42.678251Z",
     "iopub.status.idle": "2022-09-25T10:27:43.192941Z",
     "shell.execute_reply": "2022-09-25T10:27:43.191567Z"
    },
    "papermill": {
     "duration": 0.523687,
     "end_time": "2022-09-25T10:27:43.195409",
     "exception": false,
     "start_time": "2022-09-25T10:27:42.671722",
     "status": "completed"
    },
    "tags": []
   },
   "outputs": [],
   "source": [
    "powerlifting_meets = pd.read_csv(\"../input/powerlifting-database/meets.csv\")\n",
    "powerlifting_competitors = pd.read_csv(\"../input/powerlifting-database/openpowerlifting.csv\")"
   ]
  },
  {
   "cell_type": "markdown",
   "id": "b6b4aac7",
   "metadata": {
    "papermill": {
     "duration": 0.005185,
     "end_time": "2022-09-25T10:27:43.206301",
     "exception": false,
     "start_time": "2022-09-25T10:27:43.201116",
     "status": "completed"
    },
    "tags": []
   },
   "source": [
    "Both tables include references to a `MeetID`, a unique key for each meet (competition) included in the database. Using this, generate a dataset combining the two tables into one."
   ]
  },
  {
   "cell_type": "code",
   "execution_count": 11,
   "id": "31cf5ab8",
   "metadata": {
    "execution": {
     "iopub.execute_input": "2022-09-25T10:27:43.218885Z",
     "iopub.status.busy": "2022-09-25T10:27:43.218487Z",
     "iopub.status.idle": "2022-09-25T10:27:43.941578Z",
     "shell.execute_reply": "2022-09-25T10:27:43.940103Z"
    },
    "papermill": {
     "duration": 0.73188,
     "end_time": "2022-09-25T10:27:43.943605",
     "exception": false,
     "start_time": "2022-09-25T10:27:43.211725",
     "status": "completed"
    },
    "tags": []
   },
   "outputs": [
    {
     "data": {
      "application/javascript": [
       "parent.postMessage({\"jupyterEvent\": \"custom.exercise_interaction\", \"data\": {\"outcomeType\": 1, \"valueTowardsCompletion\": 0.25, \"interactionType\": 1, \"questionType\": 2, \"questionId\": \"4_JoinLifting\", \"learnToolsVersion\": \"0.3.4\", \"failureMessage\": \"\", \"exceptionClass\": \"\", \"trace\": \"\"}}, \"*\")"
      ],
      "text/plain": [
       "<IPython.core.display.Javascript object>"
      ]
     },
     "metadata": {},
     "output_type": "display_data"
    },
    {
     "data": {
      "text/markdown": [
       "<span style=\"color:#33cc33\">Correct</span>"
      ],
      "text/plain": [
       "Correct"
      ]
     },
     "metadata": {},
     "output_type": "display_data"
    }
   ],
   "source": [
    "powerlifting_combined = powerlifting_meets.set_index('MeetID').join(powerlifting_competitors.set_index('MeetID'))\n",
    "\n",
    "# Check your answer\n",
    "q4.check()"
   ]
  },
  {
   "cell_type": "code",
   "execution_count": 12,
   "id": "17a631bd",
   "metadata": {
    "execution": {
     "iopub.execute_input": "2022-09-25T10:27:43.957053Z",
     "iopub.status.busy": "2022-09-25T10:27:43.956723Z",
     "iopub.status.idle": "2022-09-25T10:27:43.960782Z",
     "shell.execute_reply": "2022-09-25T10:27:43.959939Z"
    },
    "papermill": {
     "duration": 0.013228,
     "end_time": "2022-09-25T10:27:43.963058",
     "exception": false,
     "start_time": "2022-09-25T10:27:43.949830",
     "status": "completed"
    },
    "tags": []
   },
   "outputs": [],
   "source": [
    "# q4.hint()\n",
    "# q4.solution()"
   ]
  },
  {
   "cell_type": "markdown",
   "id": "1b06b786",
   "metadata": {
    "papermill": {
     "duration": 0.005088,
     "end_time": "2022-09-25T10:27:43.973936",
     "exception": false,
     "start_time": "2022-09-25T10:27:43.968848",
     "status": "completed"
    },
    "tags": []
   },
   "source": [
    "# Congratulations!\n",
    "\n",
    "You've finished the Pandas micro-course.  Many data scientists feel efficiency with Pandas is the most useful and practical skill they have, because it allows you to progress quickly in any project you have.\n",
    "\n",
    "If you'd like to apply your new skills to examining geospatial data, you're encouraged to check out our **[Geospatial Analysis](https://www.kaggle.com/learn/geospatial-analysis)** micro-course.\n",
    "\n",
    "You can also take advantage of your Pandas skills by entering a **[Kaggle Competition](https://www.kaggle.com/competitions)** or by answering a question you find interesting using **[Kaggle Datasets](https://www.kaggle.com/datasets)**."
   ]
  },
  {
   "cell_type": "markdown",
   "id": "80df5d49",
   "metadata": {
    "papermill": {
     "duration": 0.00494,
     "end_time": "2022-09-25T10:27:43.984170",
     "exception": false,
     "start_time": "2022-09-25T10:27:43.979230",
     "status": "completed"
    },
    "tags": []
   },
   "source": [
    "---\n",
    "\n",
    "\n",
    "\n",
    "\n",
    "*Have questions or comments? Visit the [course discussion forum](https://www.kaggle.com/learn/pandas/discussion) to chat with other learners.*"
   ]
  }
 ],
 "metadata": {
  "kernelspec": {
   "display_name": "Python 3",
   "language": "python",
   "name": "python3"
  },
  "language_info": {
   "codemirror_mode": {
    "name": "ipython",
    "version": 3
   },
   "file_extension": ".py",
   "mimetype": "text/x-python",
   "name": "python",
   "nbconvert_exporter": "python",
   "pygments_lexer": "ipython3",
   "version": "3.7.12"
  },
  "papermill": {
   "default_parameters": {},
   "duration": 14.798107,
   "end_time": "2022-09-25T10:27:44.812004",
   "environment_variables": {},
   "exception": null,
   "input_path": "__notebook__.ipynb",
   "output_path": "__notebook__.ipynb",
   "parameters": {},
   "start_time": "2022-09-25T10:27:30.013897",
   "version": "2.3.4"
  }
 },
 "nbformat": 4,
 "nbformat_minor": 5
}
