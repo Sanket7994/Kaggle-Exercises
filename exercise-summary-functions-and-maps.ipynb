{
 "cells": [
  {
   "cell_type": "markdown",
   "id": "19a61b18",
   "metadata": {
    "papermill": {
     "duration": 0.005746,
     "end_time": "2022-09-25T07:45:00.040999",
     "exception": false,
     "start_time": "2022-09-25T07:45:00.035253",
     "status": "completed"
    },
    "tags": []
   },
   "source": [
    "**This notebook is an exercise in the [Pandas](https://www.kaggle.com/learn/pandas) course.  You can reference the tutorial at [this link](https://www.kaggle.com/residentmario/summary-functions-and-maps).**\n",
    "\n",
    "---\n"
   ]
  },
  {
   "cell_type": "markdown",
   "id": "a71c9c3b",
   "metadata": {
    "papermill": {
     "duration": 0.004532,
     "end_time": "2022-09-25T07:45:00.050452",
     "exception": false,
     "start_time": "2022-09-25T07:45:00.045920",
     "status": "completed"
    },
    "tags": []
   },
   "source": [
    "# Introduction\n",
    "\n",
    "Now you are ready to get a deeper understanding of your data.\n",
    "\n",
    "Run the following cell to load your data and some utility functions (including code to check your answers)."
   ]
  },
  {
   "cell_type": "code",
   "execution_count": 1,
   "id": "c5497d09",
   "metadata": {
    "execution": {
     "iopub.execute_input": "2022-09-25T07:45:00.061892Z",
     "iopub.status.busy": "2022-09-25T07:45:00.061223Z",
     "iopub.status.idle": "2022-09-25T07:45:05.824588Z",
     "shell.execute_reply": "2022-09-25T07:45:05.823538Z"
    },
    "papermill": {
     "duration": 5.771338,
     "end_time": "2022-09-25T07:45:05.826649",
     "exception": false,
     "start_time": "2022-09-25T07:45:00.055311",
     "status": "completed"
    },
    "tags": []
   },
   "outputs": [
    {
     "name": "stdout",
     "output_type": "stream",
     "text": [
      "Setup complete.\n"
     ]
    },
    {
     "data": {
      "text/html": [
       "<div>\n",
       "<style scoped>\n",
       "    .dataframe tbody tr th:only-of-type {\n",
       "        vertical-align: middle;\n",
       "    }\n",
       "\n",
       "    .dataframe tbody tr th {\n",
       "        vertical-align: top;\n",
       "    }\n",
       "\n",
       "    .dataframe thead th {\n",
       "        text-align: right;\n",
       "    }\n",
       "</style>\n",
       "<table border=\"1\" class=\"dataframe\">\n",
       "  <thead>\n",
       "    <tr style=\"text-align: right;\">\n",
       "      <th></th>\n",
       "      <th>country</th>\n",
       "      <th>description</th>\n",
       "      <th>designation</th>\n",
       "      <th>points</th>\n",
       "      <th>price</th>\n",
       "      <th>province</th>\n",
       "      <th>region_1</th>\n",
       "      <th>region_2</th>\n",
       "      <th>taster_name</th>\n",
       "      <th>taster_twitter_handle</th>\n",
       "      <th>title</th>\n",
       "      <th>variety</th>\n",
       "      <th>winery</th>\n",
       "    </tr>\n",
       "  </thead>\n",
       "  <tbody>\n",
       "    <tr>\n",
       "      <th>0</th>\n",
       "      <td>Italy</td>\n",
       "      <td>Aromas include tropical fruit, broom, brimston...</td>\n",
       "      <td>Vulkà Bianco</td>\n",
       "      <td>87</td>\n",
       "      <td>NaN</td>\n",
       "      <td>Sicily &amp; Sardinia</td>\n",
       "      <td>Etna</td>\n",
       "      <td>NaN</td>\n",
       "      <td>Kerin O’Keefe</td>\n",
       "      <td>@kerinokeefe</td>\n",
       "      <td>Nicosia 2013 Vulkà Bianco  (Etna)</td>\n",
       "      <td>White Blend</td>\n",
       "      <td>Nicosia</td>\n",
       "    </tr>\n",
       "    <tr>\n",
       "      <th>1</th>\n",
       "      <td>Portugal</td>\n",
       "      <td>This is ripe and fruity, a wine that is smooth...</td>\n",
       "      <td>Avidagos</td>\n",
       "      <td>87</td>\n",
       "      <td>15.0</td>\n",
       "      <td>Douro</td>\n",
       "      <td>NaN</td>\n",
       "      <td>NaN</td>\n",
       "      <td>Roger Voss</td>\n",
       "      <td>@vossroger</td>\n",
       "      <td>Quinta dos Avidagos 2011 Avidagos Red (Douro)</td>\n",
       "      <td>Portuguese Red</td>\n",
       "      <td>Quinta dos Avidagos</td>\n",
       "    </tr>\n",
       "    <tr>\n",
       "      <th>2</th>\n",
       "      <td>US</td>\n",
       "      <td>Tart and snappy, the flavors of lime flesh and...</td>\n",
       "      <td>NaN</td>\n",
       "      <td>87</td>\n",
       "      <td>14.0</td>\n",
       "      <td>Oregon</td>\n",
       "      <td>Willamette Valley</td>\n",
       "      <td>Willamette Valley</td>\n",
       "      <td>Paul Gregutt</td>\n",
       "      <td>@paulgwine</td>\n",
       "      <td>Rainstorm 2013 Pinot Gris (Willamette Valley)</td>\n",
       "      <td>Pinot Gris</td>\n",
       "      <td>Rainstorm</td>\n",
       "    </tr>\n",
       "    <tr>\n",
       "      <th>3</th>\n",
       "      <td>US</td>\n",
       "      <td>Pineapple rind, lemon pith and orange blossom ...</td>\n",
       "      <td>Reserve Late Harvest</td>\n",
       "      <td>87</td>\n",
       "      <td>13.0</td>\n",
       "      <td>Michigan</td>\n",
       "      <td>Lake Michigan Shore</td>\n",
       "      <td>NaN</td>\n",
       "      <td>Alexander Peartree</td>\n",
       "      <td>NaN</td>\n",
       "      <td>St. Julian 2013 Reserve Late Harvest Riesling ...</td>\n",
       "      <td>Riesling</td>\n",
       "      <td>St. Julian</td>\n",
       "    </tr>\n",
       "    <tr>\n",
       "      <th>4</th>\n",
       "      <td>US</td>\n",
       "      <td>Much like the regular bottling from 2012, this...</td>\n",
       "      <td>Vintner's Reserve Wild Child Block</td>\n",
       "      <td>87</td>\n",
       "      <td>65.0</td>\n",
       "      <td>Oregon</td>\n",
       "      <td>Willamette Valley</td>\n",
       "      <td>Willamette Valley</td>\n",
       "      <td>Paul Gregutt</td>\n",
       "      <td>@paulgwine</td>\n",
       "      <td>Sweet Cheeks 2012 Vintner's Reserve Wild Child...</td>\n",
       "      <td>Pinot Noir</td>\n",
       "      <td>Sweet Cheeks</td>\n",
       "    </tr>\n",
       "  </tbody>\n",
       "</table>\n",
       "</div>"
      ],
      "text/plain": [
       "    country                                        description  \\\n",
       "0     Italy  Aromas include tropical fruit, broom, brimston...   \n",
       "1  Portugal  This is ripe and fruity, a wine that is smooth...   \n",
       "2        US  Tart and snappy, the flavors of lime flesh and...   \n",
       "3        US  Pineapple rind, lemon pith and orange blossom ...   \n",
       "4        US  Much like the regular bottling from 2012, this...   \n",
       "\n",
       "                          designation  points  price           province  \\\n",
       "0                        Vulkà Bianco      87    NaN  Sicily & Sardinia   \n",
       "1                            Avidagos      87   15.0              Douro   \n",
       "2                                 NaN      87   14.0             Oregon   \n",
       "3                Reserve Late Harvest      87   13.0           Michigan   \n",
       "4  Vintner's Reserve Wild Child Block      87   65.0             Oregon   \n",
       "\n",
       "              region_1           region_2         taster_name  \\\n",
       "0                 Etna                NaN       Kerin O’Keefe   \n",
       "1                  NaN                NaN          Roger Voss   \n",
       "2    Willamette Valley  Willamette Valley        Paul Gregutt   \n",
       "3  Lake Michigan Shore                NaN  Alexander Peartree   \n",
       "4    Willamette Valley  Willamette Valley        Paul Gregutt   \n",
       "\n",
       "  taster_twitter_handle                                              title  \\\n",
       "0          @kerinokeefe                  Nicosia 2013 Vulkà Bianco  (Etna)   \n",
       "1            @vossroger      Quinta dos Avidagos 2011 Avidagos Red (Douro)   \n",
       "2           @paulgwine       Rainstorm 2013 Pinot Gris (Willamette Valley)   \n",
       "3                   NaN  St. Julian 2013 Reserve Late Harvest Riesling ...   \n",
       "4           @paulgwine   Sweet Cheeks 2012 Vintner's Reserve Wild Child...   \n",
       "\n",
       "          variety               winery  \n",
       "0     White Blend              Nicosia  \n",
       "1  Portuguese Red  Quinta dos Avidagos  \n",
       "2      Pinot Gris            Rainstorm  \n",
       "3        Riesling           St. Julian  \n",
       "4      Pinot Noir         Sweet Cheeks  "
      ]
     },
     "execution_count": 1,
     "metadata": {},
     "output_type": "execute_result"
    }
   ],
   "source": [
    "import pandas as pd\n",
    "pd.set_option(\"display.max_rows\", 5)\n",
    "reviews = pd.read_csv(\"../input/wine-reviews/winemag-data-130k-v2.csv\", index_col=0)\n",
    "\n",
    "from learntools.core import binder; binder.bind(globals())\n",
    "from learntools.pandas.summary_functions_and_maps import *\n",
    "print(\"Setup complete.\")\n",
    "\n",
    "reviews.head()"
   ]
  },
  {
   "cell_type": "markdown",
   "id": "5bc05e92",
   "metadata": {
    "papermill": {
     "duration": 0.004939,
     "end_time": "2022-09-25T07:45:05.836879",
     "exception": false,
     "start_time": "2022-09-25T07:45:05.831940",
     "status": "completed"
    },
    "tags": []
   },
   "source": [
    "# Exercises"
   ]
  },
  {
   "cell_type": "markdown",
   "id": "dc82ac75",
   "metadata": {
    "papermill": {
     "duration": 0.004847,
     "end_time": "2022-09-25T07:45:05.846612",
     "exception": false,
     "start_time": "2022-09-25T07:45:05.841765",
     "status": "completed"
    },
    "tags": []
   },
   "source": [
    "## 1.\n",
    "\n",
    "What is the median of the `points` column in the `reviews` DataFrame?"
   ]
  },
  {
   "cell_type": "code",
   "execution_count": 2,
   "id": "7a4114ce",
   "metadata": {
    "execution": {
     "iopub.execute_input": "2022-09-25T07:45:05.857998Z",
     "iopub.status.busy": "2022-09-25T07:45:05.857664Z",
     "iopub.status.idle": "2022-09-25T07:45:05.866462Z",
     "shell.execute_reply": "2022-09-25T07:45:05.865680Z"
    },
    "papermill": {
     "duration": 0.016437,
     "end_time": "2022-09-25T07:45:05.868012",
     "exception": false,
     "start_time": "2022-09-25T07:45:05.851575",
     "status": "completed"
    },
    "tags": []
   },
   "outputs": [
    {
     "data": {
      "application/javascript": [
       "parent.postMessage({\"jupyterEvent\": \"custom.exercise_interaction\", \"data\": {\"outcomeType\": 1, \"valueTowardsCompletion\": 0.14285714285714285, \"interactionType\": 1, \"questionType\": 1, \"questionId\": \"1_MedianPoints\", \"learnToolsVersion\": \"0.3.4\", \"failureMessage\": \"\", \"exceptionClass\": \"\", \"trace\": \"\"}}, \"*\")"
      ],
      "text/plain": [
       "<IPython.core.display.Javascript object>"
      ]
     },
     "metadata": {},
     "output_type": "display_data"
    },
    {
     "data": {
      "text/markdown": [
       "<span style=\"color:#33cc33\">Correct</span>"
      ],
      "text/plain": [
       "Correct"
      ]
     },
     "metadata": {},
     "output_type": "display_data"
    }
   ],
   "source": [
    "median_points = reviews['points'].median()\n",
    "\n",
    "# Check your answer\n",
    "q1.check()"
   ]
  },
  {
   "cell_type": "code",
   "execution_count": 3,
   "id": "c074b38f",
   "metadata": {
    "execution": {
     "iopub.execute_input": "2022-09-25T07:45:05.879939Z",
     "iopub.status.busy": "2022-09-25T07:45:05.879328Z",
     "iopub.status.idle": "2022-09-25T07:45:05.882311Z",
     "shell.execute_reply": "2022-09-25T07:45:05.881760Z"
    },
    "papermill": {
     "duration": 0.010378,
     "end_time": "2022-09-25T07:45:05.883738",
     "exception": false,
     "start_time": "2022-09-25T07:45:05.873360",
     "status": "completed"
    },
    "tags": []
   },
   "outputs": [],
   "source": [
    "#q1.hint()\n",
    "#q1.solution()"
   ]
  },
  {
   "cell_type": "markdown",
   "id": "21dc1448",
   "metadata": {
    "papermill": {
     "duration": 0.005062,
     "end_time": "2022-09-25T07:45:05.894030",
     "exception": false,
     "start_time": "2022-09-25T07:45:05.888968",
     "status": "completed"
    },
    "tags": []
   },
   "source": [
    "## 2. \n",
    "What countries are represented in the dataset? (Your answer should not include any duplicates.)"
   ]
  },
  {
   "cell_type": "code",
   "execution_count": 4,
   "id": "9b0e80e2",
   "metadata": {
    "execution": {
     "iopub.execute_input": "2022-09-25T07:45:05.906049Z",
     "iopub.status.busy": "2022-09-25T07:45:05.905565Z",
     "iopub.status.idle": "2022-09-25T07:45:05.918180Z",
     "shell.execute_reply": "2022-09-25T07:45:05.917316Z"
    },
    "papermill": {
     "duration": 0.020679,
     "end_time": "2022-09-25T07:45:05.919892",
     "exception": false,
     "start_time": "2022-09-25T07:45:05.899213",
     "status": "completed"
    },
    "tags": []
   },
   "outputs": [
    {
     "data": {
      "application/javascript": [
       "parent.postMessage({\"jupyterEvent\": \"custom.exercise_interaction\", \"data\": {\"outcomeType\": 1, \"valueTowardsCompletion\": 0.14285714285714285, \"interactionType\": 1, \"questionType\": 2, \"questionId\": \"2_UniqueCountries\", \"learnToolsVersion\": \"0.3.4\", \"failureMessage\": \"\", \"exceptionClass\": \"\", \"trace\": \"\"}}, \"*\")"
      ],
      "text/plain": [
       "<IPython.core.display.Javascript object>"
      ]
     },
     "metadata": {},
     "output_type": "display_data"
    },
    {
     "data": {
      "text/markdown": [
       "<span style=\"color:#33cc33\">Correct</span>"
      ],
      "text/plain": [
       "Correct"
      ]
     },
     "metadata": {},
     "output_type": "display_data"
    }
   ],
   "source": [
    "countries = reviews['country'].unique()\n",
    "\n",
    "# Check your answer\n",
    "q2.check()"
   ]
  },
  {
   "cell_type": "code",
   "execution_count": 5,
   "id": "f48ae64e",
   "metadata": {
    "execution": {
     "iopub.execute_input": "2022-09-25T07:45:05.932512Z",
     "iopub.status.busy": "2022-09-25T07:45:05.932201Z",
     "iopub.status.idle": "2022-09-25T07:45:05.935710Z",
     "shell.execute_reply": "2022-09-25T07:45:05.934954Z"
    },
    "papermill": {
     "duration": 0.011512,
     "end_time": "2022-09-25T07:45:05.937223",
     "exception": false,
     "start_time": "2022-09-25T07:45:05.925711",
     "status": "completed"
    },
    "tags": []
   },
   "outputs": [],
   "source": [
    "#q2.hint()\n",
    "#q2.solution()"
   ]
  },
  {
   "cell_type": "markdown",
   "id": "660c3bfd",
   "metadata": {
    "papermill": {
     "duration": 0.006153,
     "end_time": "2022-09-25T07:45:05.948942",
     "exception": false,
     "start_time": "2022-09-25T07:45:05.942789",
     "status": "completed"
    },
    "tags": []
   },
   "source": [
    "## 3.\n",
    "How often does each country appear in the dataset? Create a Series `reviews_per_country` mapping countries to the count of reviews of wines from that country."
   ]
  },
  {
   "cell_type": "code",
   "execution_count": 6,
   "id": "10afc892",
   "metadata": {
    "execution": {
     "iopub.execute_input": "2022-09-25T07:45:05.961691Z",
     "iopub.status.busy": "2022-09-25T07:45:05.960843Z",
     "iopub.status.idle": "2022-09-25T07:45:05.974891Z",
     "shell.execute_reply": "2022-09-25T07:45:05.974236Z"
    },
    "papermill": {
     "duration": 0.022719,
     "end_time": "2022-09-25T07:45:05.977147",
     "exception": false,
     "start_time": "2022-09-25T07:45:05.954428",
     "status": "completed"
    },
    "tags": []
   },
   "outputs": [
    {
     "data": {
      "application/javascript": [
       "parent.postMessage({\"jupyterEvent\": \"custom.exercise_interaction\", \"data\": {\"outcomeType\": 1, \"valueTowardsCompletion\": 0.14285714285714285, \"interactionType\": 1, \"questionType\": 1, \"questionId\": \"3_ReviewsPerCountry\", \"learnToolsVersion\": \"0.3.4\", \"failureMessage\": \"\", \"exceptionClass\": \"\", \"trace\": \"\"}}, \"*\")"
      ],
      "text/plain": [
       "<IPython.core.display.Javascript object>"
      ]
     },
     "metadata": {},
     "output_type": "display_data"
    },
    {
     "data": {
      "text/markdown": [
       "<span style=\"color:#33cc33\">Correct</span>"
      ],
      "text/plain": [
       "Correct"
      ]
     },
     "metadata": {},
     "output_type": "display_data"
    }
   ],
   "source": [
    "reviews_per_country = reviews['country'].value_counts()\n",
    "\n",
    "# Check your answer\n",
    "q3.check()"
   ]
  },
  {
   "cell_type": "code",
   "execution_count": 7,
   "id": "08641ba5",
   "metadata": {
    "execution": {
     "iopub.execute_input": "2022-09-25T07:45:05.991554Z",
     "iopub.status.busy": "2022-09-25T07:45:05.991020Z",
     "iopub.status.idle": "2022-09-25T07:45:05.994352Z",
     "shell.execute_reply": "2022-09-25T07:45:05.993530Z"
    },
    "papermill": {
     "duration": 0.012479,
     "end_time": "2022-09-25T07:45:05.995960",
     "exception": false,
     "start_time": "2022-09-25T07:45:05.983481",
     "status": "completed"
    },
    "tags": []
   },
   "outputs": [],
   "source": [
    "#q3.hint()\n",
    "#q3.solution()"
   ]
  },
  {
   "cell_type": "markdown",
   "id": "566029f4",
   "metadata": {
    "papermill": {
     "duration": 0.005565,
     "end_time": "2022-09-25T07:45:06.007702",
     "exception": false,
     "start_time": "2022-09-25T07:45:06.002137",
     "status": "completed"
    },
    "tags": []
   },
   "source": [
    "## 4.\n",
    "Create variable `centered_price` containing a version of the `price` column with the mean price subtracted.\n",
    "\n",
    "(Note: this 'centering' transformation is a common preprocessing step before applying various machine learning algorithms.) "
   ]
  },
  {
   "cell_type": "code",
   "execution_count": 8,
   "id": "dac28dd0",
   "metadata": {
    "execution": {
     "iopub.execute_input": "2022-09-25T07:45:06.021123Z",
     "iopub.status.busy": "2022-09-25T07:45:06.020579Z",
     "iopub.status.idle": "2022-09-25T07:45:06.027742Z",
     "shell.execute_reply": "2022-09-25T07:45:06.027152Z"
    },
    "papermill": {
     "duration": 0.015937,
     "end_time": "2022-09-25T07:45:06.029389",
     "exception": false,
     "start_time": "2022-09-25T07:45:06.013452",
     "status": "completed"
    },
    "tags": []
   },
   "outputs": [
    {
     "data": {
      "application/javascript": [
       "parent.postMessage({\"jupyterEvent\": \"custom.exercise_interaction\", \"data\": {\"outcomeType\": 1, \"valueTowardsCompletion\": 0.14285714285714285, \"interactionType\": 1, \"questionType\": 1, \"questionId\": \"4_CenteredPrice\", \"learnToolsVersion\": \"0.3.4\", \"failureMessage\": \"\", \"exceptionClass\": \"\", \"trace\": \"\"}}, \"*\")"
      ],
      "text/plain": [
       "<IPython.core.display.Javascript object>"
      ]
     },
     "metadata": {},
     "output_type": "display_data"
    },
    {
     "data": {
      "text/markdown": [
       "<span style=\"color:#33cc33\">Correct</span>"
      ],
      "text/plain": [
       "Correct"
      ]
     },
     "metadata": {},
     "output_type": "display_data"
    }
   ],
   "source": [
    "centered_price = reviews['price'] - reviews['price'].mean()\n",
    "\n",
    "# Check your answer\n",
    "q4.check()"
   ]
  },
  {
   "cell_type": "code",
   "execution_count": 9,
   "id": "2a1e8168",
   "metadata": {
    "execution": {
     "iopub.execute_input": "2022-09-25T07:45:06.044023Z",
     "iopub.status.busy": "2022-09-25T07:45:06.043428Z",
     "iopub.status.idle": "2022-09-25T07:45:06.046553Z",
     "shell.execute_reply": "2022-09-25T07:45:06.046015Z"
    },
    "papermill": {
     "duration": 0.012053,
     "end_time": "2022-09-25T07:45:06.048069",
     "exception": false,
     "start_time": "2022-09-25T07:45:06.036016",
     "status": "completed"
    },
    "tags": []
   },
   "outputs": [],
   "source": [
    "#q4.hint()\n",
    "#q4.solution()"
   ]
  },
  {
   "cell_type": "markdown",
   "id": "80d2427a",
   "metadata": {
    "papermill": {
     "duration": 0.00605,
     "end_time": "2022-09-25T07:45:06.060263",
     "exception": false,
     "start_time": "2022-09-25T07:45:06.054213",
     "status": "completed"
    },
    "tags": []
   },
   "source": [
    "## 5.\n",
    "I'm an economical wine buyer. Which wine is the \"best bargain\"? Create a variable `bargain_wine` with the title of the wine with the highest points-to-price ratio in the dataset."
   ]
  },
  {
   "cell_type": "code",
   "execution_count": 10,
   "id": "b7fe30cd",
   "metadata": {
    "execution": {
     "iopub.execute_input": "2022-09-25T07:45:06.074097Z",
     "iopub.status.busy": "2022-09-25T07:45:06.073614Z",
     "iopub.status.idle": "2022-09-25T07:45:06.084360Z",
     "shell.execute_reply": "2022-09-25T07:45:06.083532Z"
    },
    "papermill": {
     "duration": 0.020441,
     "end_time": "2022-09-25T07:45:06.086833",
     "exception": false,
     "start_time": "2022-09-25T07:45:06.066392",
     "status": "completed"
    },
    "tags": []
   },
   "outputs": [
    {
     "name": "stdout",
     "output_type": "stream",
     "text": [
      "Bandit NV Merlot (California)\n"
     ]
    },
    {
     "data": {
      "application/javascript": [
       "parent.postMessage({\"jupyterEvent\": \"custom.exercise_interaction\", \"data\": {\"outcomeType\": 1, \"valueTowardsCompletion\": 0.14285714285714285, \"interactionType\": 1, \"questionType\": 2, \"questionId\": \"5_BargainWine\", \"learnToolsVersion\": \"0.3.4\", \"failureMessage\": \"\", \"exceptionClass\": \"\", \"trace\": \"\"}}, \"*\")"
      ],
      "text/plain": [
       "<IPython.core.display.Javascript object>"
      ]
     },
     "metadata": {},
     "output_type": "display_data"
    },
    {
     "data": {
      "text/markdown": [
       "<span style=\"color:#33cc33\">Correct</span>"
      ],
      "text/plain": [
       "Correct"
      ]
     },
     "metadata": {},
     "output_type": "display_data"
    }
   ],
   "source": [
    "bargain_idx = (reviews.points / reviews.price).idxmax()\n",
    "bargain_wine = reviews.loc[bargain_idx, 'title']\n",
    "print(bargain_wine)\n",
    "# Check your answer\n",
    "q5.check()"
   ]
  },
  {
   "cell_type": "code",
   "execution_count": 11,
   "id": "6c0ed6fc",
   "metadata": {
    "execution": {
     "iopub.execute_input": "2022-09-25T07:45:06.101799Z",
     "iopub.status.busy": "2022-09-25T07:45:06.101437Z",
     "iopub.status.idle": "2022-09-25T07:45:06.105836Z",
     "shell.execute_reply": "2022-09-25T07:45:06.104912Z"
    },
    "papermill": {
     "duration": 0.014083,
     "end_time": "2022-09-25T07:45:06.107527",
     "exception": false,
     "start_time": "2022-09-25T07:45:06.093444",
     "status": "completed"
    },
    "tags": []
   },
   "outputs": [],
   "source": [
    "# q5.hint()\n",
    "# q5.solution()"
   ]
  },
  {
   "cell_type": "markdown",
   "id": "51e6db8f",
   "metadata": {
    "papermill": {
     "duration": 0.005981,
     "end_time": "2022-09-25T07:45:06.119710",
     "exception": false,
     "start_time": "2022-09-25T07:45:06.113729",
     "status": "completed"
    },
    "tags": []
   },
   "source": [
    "## 6.\n",
    "There are only so many words you can use when describing a bottle of wine. Is a wine more likely to be \"tropical\" or \"fruity\"? Create a Series `descriptor_counts` counting how many times each of these two words appears in the `description` column in the dataset. (For simplicity, let's ignore the capitalized versions of these words.)"
   ]
  },
  {
   "cell_type": "code",
   "execution_count": 12,
   "id": "811ad37c",
   "metadata": {
    "execution": {
     "iopub.execute_input": "2022-09-25T07:45:06.133455Z",
     "iopub.status.busy": "2022-09-25T07:45:06.133130Z",
     "iopub.status.idle": "2022-09-25T07:45:06.241052Z",
     "shell.execute_reply": "2022-09-25T07:45:06.240185Z"
    },
    "papermill": {
     "duration": 0.11672,
     "end_time": "2022-09-25T07:45:06.242654",
     "exception": false,
     "start_time": "2022-09-25T07:45:06.125934",
     "status": "completed"
    },
    "tags": []
   },
   "outputs": [
    {
     "name": "stdout",
     "output_type": "stream",
     "text": [
      "tropical    3607\n",
      "fruity      9090\n",
      "dtype: int64\n"
     ]
    },
    {
     "data": {
      "application/javascript": [
       "parent.postMessage({\"jupyterEvent\": \"custom.exercise_interaction\", \"data\": {\"outcomeType\": 1, \"valueTowardsCompletion\": 0.14285714285714285, \"interactionType\": 1, \"questionType\": 1, \"questionId\": \"6_DescriptorCounts\", \"learnToolsVersion\": \"0.3.4\", \"failureMessage\": \"\", \"exceptionClass\": \"\", \"trace\": \"\"}}, \"*\")"
      ],
      "text/plain": [
       "<IPython.core.display.Javascript object>"
      ]
     },
     "metadata": {},
     "output_type": "display_data"
    },
    {
     "data": {
      "text/markdown": [
       "<span style=\"color:#33cc33\">Correct</span>"
      ],
      "text/plain": [
       "Correct"
      ]
     },
     "metadata": {},
     "output_type": "display_data"
    }
   ],
   "source": [
    "tropical_count = reviews.description.map(lambda x: 'tropical' in x).sum()\n",
    "fruity_count = reviews.description.map(lambda x: 'fruity' in x).sum()\n",
    "\n",
    "descriptor_counts = pd.Series([tropical_count, fruity_count], index=['tropical', 'fruity'])\n",
    "print(descriptor_counts)\n",
    "# Check your answer\n",
    "q6.check()"
   ]
  },
  {
   "cell_type": "code",
   "execution_count": 13,
   "id": "29d1a69d",
   "metadata": {
    "execution": {
     "iopub.execute_input": "2022-09-25T07:45:06.257778Z",
     "iopub.status.busy": "2022-09-25T07:45:06.257014Z",
     "iopub.status.idle": "2022-09-25T07:45:06.260227Z",
     "shell.execute_reply": "2022-09-25T07:45:06.259651Z"
    },
    "papermill": {
     "duration": 0.012193,
     "end_time": "2022-09-25T07:45:06.261719",
     "exception": false,
     "start_time": "2022-09-25T07:45:06.249526",
     "status": "completed"
    },
    "tags": []
   },
   "outputs": [],
   "source": [
    "# q6.hint()\n",
    "# q6.solution()"
   ]
  },
  {
   "cell_type": "markdown",
   "id": "f75e1441",
   "metadata": {
    "papermill": {
     "duration": 0.006306,
     "end_time": "2022-09-25T07:45:06.274566",
     "exception": false,
     "start_time": "2022-09-25T07:45:06.268260",
     "status": "completed"
    },
    "tags": []
   },
   "source": [
    "## 7.\n",
    "We'd like to host these wine reviews on our website, but a rating system ranging from 80 to 100 points is too hard to understand - we'd like to translate them into simple star ratings. A score of 95 or higher counts as 3 stars, a score of at least 85 but less than 95 is 2 stars. Any other score is 1 star.\n",
    "\n",
    "Also, the Canadian Vintners Association bought a lot of ads on the site, so any wines from Canada should automatically get 3 stars, regardless of points.\n",
    "\n",
    "Create a series `star_ratings` with the number of stars corresponding to each review in the dataset."
   ]
  },
  {
   "cell_type": "code",
   "execution_count": 14,
   "id": "d0dfa39a",
   "metadata": {
    "execution": {
     "iopub.execute_input": "2022-09-25T07:45:06.289115Z",
     "iopub.status.busy": "2022-09-25T07:45:06.288599Z",
     "iopub.status.idle": "2022-09-25T07:45:10.637351Z",
     "shell.execute_reply": "2022-09-25T07:45:10.636502Z"
    },
    "papermill": {
     "duration": 4.358083,
     "end_time": "2022-09-25T07:45:10.639103",
     "exception": false,
     "start_time": "2022-09-25T07:45:06.281020",
     "status": "completed"
    },
    "tags": []
   },
   "outputs": [
    {
     "data": {
      "application/javascript": [
       "parent.postMessage({\"jupyterEvent\": \"custom.exercise_interaction\", \"data\": {\"outcomeType\": 1, \"valueTowardsCompletion\": 0.14285714285714285, \"interactionType\": 1, \"questionType\": 1, \"questionId\": \"7_StarRatings\", \"learnToolsVersion\": \"0.3.4\", \"failureMessage\": \"\", \"exceptionClass\": \"\", \"trace\": \"\"}}, \"*\")"
      ],
      "text/plain": [
       "<IPython.core.display.Javascript object>"
      ]
     },
     "metadata": {},
     "output_type": "display_data"
    },
    {
     "data": {
      "text/markdown": [
       "<span style=\"color:#33cc33\">Correct</span>"
      ],
      "text/plain": [
       "Correct"
      ]
     },
     "metadata": {},
     "output_type": "display_data"
    }
   ],
   "source": [
    "def rating_system(row):\n",
    "    if row.country == 'Canada':\n",
    "        return 3\n",
    "    elif row.points >= 95:\n",
    "        return 3\n",
    "    elif row.points < 95 and row.points >= 85:\n",
    "        return 2\n",
    "    else: \n",
    "        return 1\n",
    "\n",
    "star_ratings = reviews.apply(rating_system, axis='columns')\n",
    "\n",
    "# Check your answer\n",
    "q7.check()"
   ]
  },
  {
   "cell_type": "code",
   "execution_count": 15,
   "id": "48e725de",
   "metadata": {
    "execution": {
     "iopub.execute_input": "2022-09-25T07:45:10.654476Z",
     "iopub.status.busy": "2022-09-25T07:45:10.653680Z",
     "iopub.status.idle": "2022-09-25T07:45:10.660658Z",
     "shell.execute_reply": "2022-09-25T07:45:10.660081Z"
    },
    "papermill": {
     "duration": 0.016225,
     "end_time": "2022-09-25T07:45:10.662333",
     "exception": false,
     "start_time": "2022-09-25T07:45:10.646108",
     "status": "completed"
    },
    "tags": []
   },
   "outputs": [
    {
     "data": {
      "application/javascript": [
       "parent.postMessage({\"jupyterEvent\": \"custom.exercise_interaction\", \"data\": {\"interactionType\": 3, \"questionType\": 1, \"questionId\": \"7_StarRatings\", \"learnToolsVersion\": \"0.3.4\", \"valueTowardsCompletion\": 0.0, \"failureMessage\": \"\", \"exceptionClass\": \"\", \"trace\": \"\", \"outcomeType\": 4}}, \"*\")"
      ],
      "text/plain": [
       "<IPython.core.display.Javascript object>"
      ]
     },
     "metadata": {},
     "output_type": "display_data"
    },
    {
     "data": {
      "text/markdown": [
       "<span style=\"color:#33cc99\">Solution:</span> \n",
       "```python\n",
       "def stars(row):\n",
       "    if row.country == 'Canada':\n",
       "        return 3\n",
       "    elif row.points >= 95:\n",
       "        return 3\n",
       "    elif row.points >= 85:\n",
       "        return 2\n",
       "    else:\n",
       "        return 1\n",
       "    \n",
       "star_ratings = reviews.apply(stars, axis='columns')\n",
       "```"
      ],
      "text/plain": [
       "Solution: \n",
       "```python\n",
       "def stars(row):\n",
       "    if row.country == 'Canada':\n",
       "        return 3\n",
       "    elif row.points >= 95:\n",
       "        return 3\n",
       "    elif row.points >= 85:\n",
       "        return 2\n",
       "    else:\n",
       "        return 1\n",
       "    \n",
       "star_ratings = reviews.apply(stars, axis='columns')\n",
       "```"
      ]
     },
     "metadata": {},
     "output_type": "display_data"
    }
   ],
   "source": [
    "#q7.hint()\n",
    "q7.solution()"
   ]
  },
  {
   "cell_type": "markdown",
   "id": "7d09e6cc",
   "metadata": {
    "papermill": {
     "duration": 0.006948,
     "end_time": "2022-09-25T07:45:10.676476",
     "exception": false,
     "start_time": "2022-09-25T07:45:10.669528",
     "status": "completed"
    },
    "tags": []
   },
   "source": [
    "# Keep going\n",
    "Continue to **[grouping and sorting](https://www.kaggle.com/residentmario/grouping-and-sorting)**."
   ]
  },
  {
   "cell_type": "markdown",
   "id": "7b6e1a10",
   "metadata": {
    "papermill": {
     "duration": 0.006892,
     "end_time": "2022-09-25T07:45:10.690389",
     "exception": false,
     "start_time": "2022-09-25T07:45:10.683497",
     "status": "completed"
    },
    "tags": []
   },
   "source": [
    "---\n",
    "\n",
    "\n",
    "\n",
    "\n",
    "*Have questions or comments? Visit the [course discussion forum](https://www.kaggle.com/learn/pandas/discussion) to chat with other learners.*"
   ]
  }
 ],
 "metadata": {
  "kernelspec": {
   "display_name": "Python 3",
   "language": "python",
   "name": "python3"
  },
  "language_info": {
   "codemirror_mode": {
    "name": "ipython",
    "version": 3
   },
   "file_extension": ".py",
   "mimetype": "text/x-python",
   "name": "python",
   "nbconvert_exporter": "python",
   "pygments_lexer": "ipython3",
   "version": "3.7.12"
  },
  "papermill": {
   "default_parameters": {},
   "duration": 18.106869,
   "end_time": "2022-09-25T07:45:11.316674",
   "environment_variables": {},
   "exception": null,
   "input_path": "__notebook__.ipynb",
   "output_path": "__notebook__.ipynb",
   "parameters": {},
   "start_time": "2022-09-25T07:44:53.209805",
   "version": "2.3.4"
  }
 },
 "nbformat": 4,
 "nbformat_minor": 5
}
